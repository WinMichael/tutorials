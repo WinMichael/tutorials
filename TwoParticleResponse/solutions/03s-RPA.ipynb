{
 "cells": [
  {
   "cell_type": "markdown",
   "metadata": {},
   "source": [
    "# The random phase approximation (RPA)\n",
    "\n",
    "\n",
    "The Lindhard susceptibility $\\chi_0$ is the exact susceptibility for the non-interacting case $U=0$, however for finite interactions the susceptibility of the system $\\chi$ is given by the Bethe-Salpeter equation\n",
    "\n",
    "$$ \\chi = \\chi_0 + \\chi_0 \\Gamma \\chi $$\n",
    "\n",
    "where $\\Gamma$ is the particle-hole irreducible vertex function, containing all diagrams with insertions of the interaction that can not be separated by cutting a pair of particle-hole single-particle propagators $G G$.\n",
    "\n",
    "The first order contribution to the vertex $\\Gamma$ is the bare interaction $U$ and the approximation\n",
    "\n",
    "$$ \\Gamma = U/2 $$\n",
    "\n",
    "gives the so-called random phase approximation for $\\chi$, i.e.\n",
    "\n",
    "$$ \\chi_{RPA} = \\chi_0 + \\chi_0 \\frac{U}{2} \\chi_{RPA} $$\n",
    "\n",
    "Rewriting this equation gives $\\chi_{RPA}$ as\n",
    "\n",
    "$$ \\chi_{RPA} = \\frac{\\chi_0}{1 - \\frac{U}{2} \\chi_0} $$\n",
    "\n",
    "note that the denominator of this equation can in general go to zero, whereby the susceptibility $\\chi_{RPA}$ diverges. Whence the RPA approximation can be used to compute instabilities of the system towards, e.g., anti-ferromagnetic symmetry breaking.\n",
    "\n",
    "As an example we compute $\\chi_{RPA}$ for the square lattice and the enhancement of the $\\mathbf{q} = (\\pi, \\pi)$ peak as a function of $U$.\n",
    "\n",
    "RPA predicts a phase transition to an antiferromagnetic state at *finite temperatures*. In two dimensions this is unphysical since the Mermin Wagner theorem tells us that the phase transition only occurs at zero temperature. \n",
    "\n",
    "We will later see how to remedy this shortcoming of RPA using the TPSC approach."
   ]
  },
  {
   "cell_type": "code",
   "execution_count": null,
   "metadata": {},
   "outputs": [],
   "source": [
    "# Imports \n",
    "from triqs.lattice import BravaisLattice, BrillouinZone\n",
    "from triqs.gf import MeshBrZone, MeshImFreq, Gf, MeshProduct\n",
    "from h5 import HDFArchive\n",
    "from triqs.plot.mpl_interface import plt, oplot\n",
    "plt.rcParams[\"figure.dpi\"] = 100 # make figures bigger\n",
    "%matplotlib inline\n",
    "import numpy as np\n",
    "from math import cos, pi"
   ]
  },
  {
   "cell_type": "code",
   "execution_count": null,
   "metadata": {},
   "outputs": [],
   "source": [
    "# Reload the previous result\n",
    "with HDFArchive(\"tpsc.h5\",'r') as R:\n",
    "    chi0_qw = R['chi0_qw']"
   ]
  },
  {
   "cell_type": "markdown",
   "metadata": {},
   "source": [
    "### <i class=\"fa fa-gear fa-x\" style=\"color: #186391\"></i> Exercise 1 \n",
    "\n",
    "Using the same code at for non-interacting susceptibility\n",
    "(Cf 02s-Lindhard), plot the RPA susceptibility\n",
    "for $U = 2.7$ as a color plot (and 3d plot).\n"
   ]
  },
  {
   "cell_type": "code",
   "execution_count": null,
   "metadata": {},
   "outputs": [],
   "source": [
    "# chi in the RPA approximation\n",
    "U = 2.7\n",
    "chi= lambda qx, qy: (chi0_qw((qx,qy,0),0) / (1. - U/2 * chi0_qw((qx,qy,0),0))).real\n",
    "\n",
    "# Make a simple 2d grid\n",
    "nq = chi0_qw.mesh[0].dims[0] + 1       \n",
    "lsp = np.linspace(0, 2*pi, nq, endpoint=True)\n",
    "qx, qy = np.meshgrid(lsp, lsp)\n",
    "\n",
    "# 2d color plot\n",
    "plt.figure(figsize=(5,4),dpi=80)\n",
    "plt.pcolor(qx, qy, np.vectorize(chi)(qx,qy))\n",
    "plt.xlim(0, 2*pi); plt.ylim(0, 2*pi)\n",
    "# decoration\n",
    "plt.colorbar()\n",
    "plt.xticks([0, pi, 2*pi],[r\"0\",r\"$\\pi$\",r\"$2\\pi$\"])    \n",
    "plt.yticks([0, pi, 2*pi],[r\"0\",r\"$\\pi$\",r\"$2\\pi$\"])\n",
    "plt.xlabel(r'$q_x$'); plt.ylabel(r'$q_y$')\n",
    "plt.title('Static Lindhard susceptibility $\\chi_0(\\mathbf{q}, \\omega=0)$')\n",
    "plt.axis('scaled')\n",
    "\n",
    "# Here is a 3d plot. \n",
    "fig = plt.figure(figsize=(6,5),dpi=100)\n",
    "ax  = plt.axes(projection='3d')\n",
    "ax.plot_surface(qx, qy, np.vectorize(chi)(qx,qy), cmap=\"jet\", rstride=8, cstride=8)\n",
    "ax.set_xlabel(r\"$q_x$\"); ax.set_ylabel(r\"$q_y$\"); ax.set_zlabel(r\"$\\chi_\\mathrm{RPA}$\");\n",
    "ax.set_xticks([0, pi, 2*pi],[r\"0\",r\"$\\pi$\",r\"$2\\pi$\"])\n",
    "ax.set_yticks([0, pi, 2*pi],[r\"0\",r\"$\\pi$\",r\"$2\\pi$\"]);"
   ]
  },
  {
   "cell_type": "markdown",
   "metadata": {},
   "source": [
    "### <i class=\"fa fa-gear fa-x\" style=\"color: #186391\"></i> Exercise 2: Plot along some path for different values of $U$\n",
    "\n",
    "Using the same code as for non-interacting susceptibility\n",
    "(Cf 02s-Lindhard), plot $\\chi_{RPA}$ \n",
    "for various values of $U$  (e.g. in `np.arange(1., 2.8, 0.2)`)\n",
    "along the path\n",
    "in the Brillouin Zone: $\\Gamma \\rightarrow X \\rightarrow M \\rightarrow \\Gamma$\n",
    "where $\\Gamma = (0,  0 , 0)$, $X = (\\pi, \\pi, 0)$ and  $M = (\\pi, 0,  0)$."
   ]
  },
  {
   "cell_type": "code",
   "execution_count": null,
   "metadata": {},
   "outputs": [],
   "source": [
    "import itertools\n",
    "\n",
    "# function to generates a linear set of points between qi and qf\n",
    "n_step = 100\n",
    "def path(qi, qf):\n",
    "    for x in np.arange(0, 1, 1./n_step):\n",
    "        yield (1-x) * np.array(qi) + x * np.array(qf) \n",
    "\n",
    "G = (0,  0 , 0)\n",
    "X = (pi, pi, 0) \n",
    "M = (pi, 0,  0)\n",
    "   \n",
    "plt.figure(dpi=100)\n",
    "for U in np.arange(1, 2.8, 0.2):\n",
    "    chi = lambda q: (chi0_qw(q,0) / (1. - U/2 * chi0_qw(q,0))).real\n",
    "    plt.plot([chi(k).real for k in itertools.chain(path(G, X), path(X, M), path(M, G) )], '-', \n",
    "             label=r'$\\chi_\\mathrm{RPA}$, $U=%2.2f$' % U)\n",
    "    \n",
    "#decoration\n",
    "plt.xlim(0, 3*n_step) # window size\n",
    "plt.grid()\n",
    "plt.xticks([0, n_step, 2*n_step, 3*n_step],[r'$\\Gamma$',r'$X$',r'$M$',r'$\\Gamma$'])\n",
    "plt.title('Static Lindhard susceptibility $\\chi_0(\\mathbf{q},\\omega=0)$')\n",
    "plt.xlabel(r'$\\mathbf{q}$'); plt.ylabel(r'$\\chi_0(\\mathbf{q},\\omega=0)$')\n",
    "plt.legend();"
   ]
  },
  {
   "cell_type": "markdown",
   "metadata": {},
   "source": [
    "### <i class=\"fa fa-gear fa-x\" style=\"color: #186391\"></i> Exercise 3:  Critical $U$\n",
    "\n",
    "At some critical $U_c$ the RPA susceptibility diverges $\\chi_{RPA} \\rightarrow \\infty$. To determine $U_c$ we can study the root of the inverse susceptibility $\\chi_{RPA}^{-1}$.\n",
    "\n",
    "For the square lattice it is sufficient to study the response at $\\mathbf{Q}_{AF}= (\\pi, \\pi)$ since this is the momentum vector where the response diverges. Analytically this occurs when the denominator is zero $1 - \\frac{U}{2} \\chi(\\mathbf{Q}_{AF}, 0) = 0$, i.e.\n",
    "\n",
    "$$ U_c^{(RPA)} = \\frac{2}{\\chi(\\mathbf{Q}_{AF}, 0)} $$\n",
    "\n",
    "Plot $\\chi_{RPA}^{-1} (\\mathbf{Q}_{AF}, 0)$ vs $U$ to numerically determine the critical $U$ in the RPA approximation and compare to a direct calculation of $U_c^{(RPA)}$.\n"
   ]
  },
  {
   "cell_type": "code",
   "execution_count": null,
   "metadata": {},
   "outputs": [],
   "source": [
    "Q_AF = (pi, pi, 0)\n",
    "\n",
    "# Critical U - analytical solution\n",
    "U_c = 2 / chi0_qw(Q_AF, 0).real\n",
    "\n",
    "Ur = np.linspace(1, 4,100)\n",
    "chi_inv = lambda U: ((1. - U/2 * chi0_qw(Q_AF,0)) / chi0_qw(Q_AF, 0)).real\n",
    "\n",
    "plt.plot(Ur, chi_inv(Ur), label=r'$\\chi_{RPA}^{-1}$')\n",
    "plt.plot(Ur, np.zeros_like(Ur), 'k', lw=0.5)\n",
    "plt.plot(U_c, 0, 'rs', label=r'$U_c \\approx %2.2f$'%U_c, alpha=0.5) # a red point at the analytic solution\n",
    "\n",
    "# decoration\n",
    "plt.title(\"Determination of critical $U$ in RPA\")\n",
    "plt.xlabel(r'$U$')\n",
    "plt.ylabel(r'$\\chi_\\mathrm{RPA}^{-1}$')\n",
    "plt.legend();"
   ]
  }
 ],
 "metadata": {
  "kernelspec": {
   "display_name": "Python 3",
   "language": "python",
   "name": "python3"
  },
  "language_info": {
   "codemirror_mode": {
    "name": "ipython",
    "version": 3
   },
   "file_extension": ".py",
   "mimetype": "text/x-python",
   "name": "python",
   "nbconvert_exporter": "python",
   "pygments_lexer": "ipython3",
   "version": "3.9.9"
  }
 },
 "nbformat": 4,
 "nbformat_minor": 4
}
